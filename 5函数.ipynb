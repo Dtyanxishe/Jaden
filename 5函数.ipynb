{
 "cells": [
  {
   "cell_type": "markdown",
   "metadata": {},
   "source": [
    "## 函数使用案例"
   ]
  },
  {
   "cell_type": "markdown",
   "metadata": {},
   "source": [
    "## 如何自定义函数？"
   ]
  },
  {
   "cell_type": "code",
   "execution_count": 1,
   "metadata": {
    "collapsed": true
   },
   "outputs": [],
   "source": [
    "'''\n",
    "定义函数\n",
    "函数功能：两个数相加\n",
    "输入：x，y是要相加的两个数\n",
    "输出：两个数相加的和\n",
    "'''\n",
    "def add(x,y):\n",
    "    z=x+y\n",
    "    return z"
   ]
  },
  {
   "cell_type": "markdown",
   "metadata": {},
   "source": [
    "## 如何使用函数？"
   ]
  },
  {
   "cell_type": "code",
   "execution_count": 3,
   "metadata": {},
   "outputs": [
    {
     "name": "stdout",
     "output_type": "stream",
     "text": [
      "1和2相加等于 3\n"
     ]
    }
   ],
   "source": [
    "#使用函数\n",
    "a=1\n",
    "b=2\n",
    "c=add(x=a,y=b)\n",
    "print('1和2相加等于',c)"
   ]
  },
  {
   "cell_type": "markdown",
   "metadata": {},
   "source": [
    "## 函数参数：不可变数据类型"
   ]
  },
  {
   "cell_type": "markdown",
   "metadata": {},
   "source": [
    "字符串、数字，元祖这3种是不可变数据类型，其他的都是可变数据类型"
   ]
  },
  {
   "cell_type": "code",
   "execution_count": 5,
   "metadata": {},
   "outputs": [
    {
     "name": "stdout",
     "output_type": "stream",
     "text": [
      "调用函数之前b的值= 1\n",
      "调用函数之后b的值= 1\n"
     ]
    }
   ],
   "source": [
    "#定义函：改变数据的值\n",
    "def changeInt(a):\n",
    "    a=a+1\n",
    "\n",
    "'''\n",
    "使用函数\n",
    "参数是不可变数据类型（字符串，元祖，数值，布尔，空值None）：\n",
    "传递的只是该数据类型的值（相当于复制一份）\n",
    "'''\n",
    "b=1\n",
    "print('调用函数之前b的值=',b)\n",
    "changeInt(a=b)    \n",
    "print('调用函数之后b的值=',b)"
   ]
  },
  {
   "cell_type": "markdown",
   "metadata": {},
   "source": [
    "## 函数参数：可变数据类型"
   ]
  },
  {
   "cell_type": "code",
   "execution_count": 8,
   "metadata": {},
   "outputs": [
    {
     "name": "stdout",
     "output_type": "stream",
     "text": [
      "调用函数之前的值： ['马云', '刘强东']\n",
      "调用函数之后的值： ['马云', '刘强东', '奶茶妹妹']\n"
     ]
    }
   ],
   "source": [
    "#定义函：改变列表的值\n",
    "def changeList(inputList):\n",
    "    inputList.append('奶茶妹妹')\n",
    "\n",
    "'''\n",
    "使用函数\n",
    "参数是可变数据类型：\n",
    "传递的是该变量的引用地址\n",
    "'''\n",
    "nameList=['马云','刘强东']\n",
    "print('调用函数之前的值：',nameList)\n",
    "changeList(inputList=nameList)    \n",
    "print('调用函数之后的值：',nameList)"
   ]
  },
  {
   "cell_type": "markdown",
   "metadata": {},
   "source": [
    "# 变量作用域"
   ]
  },
  {
   "cell_type": "markdown",
   "metadata": {},
   "source": [
    "Python的作用域一共有2种：全局作用域，局部作用域。"
   ]
  },
  {
   "cell_type": "markdown",
   "metadata": {},
   "source": [
    "定义在函数内部的变量拥有一个局部作用域，定义在函数外的拥有全局作用域。\n",
    "局部变量只能在其被声明的函数内部访问，而全局变量可以在整个程序范围内访问。"
   ]
  },
  {
   "cell_type": "code",
   "execution_count": 12,
   "metadata": {},
   "outputs": [
    {
     "ename": "NameError",
     "evalue": "name 'aStr' is not defined",
     "output_type": "error",
     "traceback": [
      "\u001b[1;31m---------------------------------------------------------------------------\u001b[0m",
      "\u001b[1;31mNameError\u001b[0m                                 Traceback (most recent call last)",
      "\u001b[1;32m<ipython-input-12-949a6b634728>\u001b[0m in \u001b[0;36m<module>\u001b[1;34m()\u001b[0m\n\u001b[0;32m      4\u001b[0m \u001b[1;33m\u001b[0m\u001b[0m\n\u001b[0;32m      5\u001b[0m \u001b[1;31m#在函数外面，访问函数内的局部变量aStr\u001b[0m\u001b[1;33m\u001b[0m\u001b[1;33m\u001b[0m\u001b[0m\n\u001b[1;32m----> 6\u001b[1;33m \u001b[0mprint\u001b[0m\u001b[1;33m(\u001b[0m\u001b[0maStr\u001b[0m\u001b[1;33m)\u001b[0m\u001b[1;33m\u001b[0m\u001b[0m\n\u001b[0m",
      "\u001b[1;31mNameError\u001b[0m: name 'aStr' is not defined"
     ]
    }
   ],
   "source": [
    "#变量作用域\n",
    "def test():\n",
    "    aStr='别理会他人闲言闲语，今日随他们，让他们说吧，你的机会将会到来，再来证明自己。'\n",
    "\n",
    "#在函数外面，访问函数内的局部变量aStr\n",
    "print(aStr)"
   ]
  },
  {
   "cell_type": "code",
   "execution_count": null,
   "metadata": {
    "collapsed": true
   },
   "outputs": [],
   "source": []
  }
 ],
 "metadata": {
  "kernelspec": {
   "display_name": "Python [default]",
   "language": "python",
   "name": "python3"
  },
  "language_info": {
   "codemirror_mode": {
    "name": "ipython",
    "version": 3
   },
   "file_extension": ".py",
   "mimetype": "text/x-python",
   "name": "python",
   "nbconvert_exporter": "python",
   "pygments_lexer": "ipython3",
   "version": "3.6.3"
  }
 },
 "nbformat": 4,
 "nbformat_minor": 2
}
