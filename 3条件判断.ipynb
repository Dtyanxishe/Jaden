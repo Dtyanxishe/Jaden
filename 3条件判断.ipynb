{
 "cells": [
  {
   "cell_type": "markdown",
   "metadata": {},
   "source": [
    "## 条件判断案例"
   ]
  },
  {
   "cell_type": "code",
   "execution_count": 1,
   "metadata": {},
   "outputs": [
    {
     "name": "stdout",
     "output_type": "stream",
     "text": [
      "我要去看这部电影\n"
     ]
    }
   ],
   "source": [
    "#《摔跤吧，爸爸》豆瓣评分\n",
    "scoreNum=9.1\n",
    "\n",
    "if scoreNum >=8 :\n",
    "    print('我要去看这部电影')\n",
    "else:\n",
    "    print('电影太烂，不去看了')"
   ]
  },
  {
   "cell_type": "code",
   "execution_count": 2,
   "metadata": {
    "collapsed": true
   },
   "outputs": [],
   "source": [
    "'''\n",
    "边界条件：逻辑判断\n",
    "'''\n",
    "#定义列表：病人姓名\n",
    "nameList=['猴子','马云','王健林','马化腾']"
   ]
  },
  {
   "cell_type": "code",
   "execution_count": 3,
   "metadata": {},
   "outputs": [
    {
     "name": "stdout",
     "output_type": "stream",
     "text": [
      "列表中有个叫猴子的病人\n"
     ]
    }
   ],
   "source": [
    "if '猴子' not in nameList:\n",
    "    print('列表中没有叫猴子的病人')\n",
    "else:\n",
    "    print('列表中有个叫猴子的病人')"
   ]
  },
  {
   "cell_type": "code",
   "execution_count": 8,
   "metadata": {},
   "outputs": [
    {
     "name": "stdout",
     "output_type": "stream",
     "text": [
      "输出狗狗的年龄，按enter键获取对应人类的年龄：5\n",
      "对应人类年龄 37\n"
     ]
    }
   ],
   "source": [
    "'''\n",
    "多个条件判断\n",
    "'''\n",
    "age=int(input('输出狗狗的年龄，按enter键获取对应人类的年龄：'))\n",
    "if age < 0 :\n",
    "    print('狗狗年龄不能小于0')\n",
    "elif age == 1:\n",
    "    print('相当于14岁的人')\n",
    "elif age == 2 :\n",
    "    print('相当于22岁的人')\n",
    "else:\n",
    "    human=22+(age-2)*5\n",
    "    print('对应人类年龄',human)"
   ]
  },
  {
   "cell_type": "code",
   "execution_count": null,
   "metadata": {
    "collapsed": true
   },
   "outputs": [],
   "source": []
  }
 ],
 "metadata": {
  "kernelspec": {
   "display_name": "Python [default]",
   "language": "python",
   "name": "python3"
  },
  "language_info": {
   "codemirror_mode": {
    "name": "ipython",
    "version": 3
   },
   "file_extension": ".py",
   "mimetype": "text/x-python",
   "name": "python",
   "nbconvert_exporter": "python",
   "pygments_lexer": "ipython3",
   "version": "3.6.3"
  }
 },
 "nbformat": 4,
 "nbformat_minor": 2
}
