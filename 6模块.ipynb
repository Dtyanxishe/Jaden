{
 "cells": [
  {
   "cell_type": "markdown",
   "metadata": {},
   "source": [
    "## 什么是模块？"
   ]
  },
  {
   "cell_type": "markdown",
   "metadata": {},
   "source": [
    "## Python内置模块使用"
   ]
  },
  {
   "cell_type": "code",
   "execution_count": 4,
   "metadata": {},
   "outputs": [
    {
     "name": "stdout",
     "output_type": "stream",
     "text": [
      "Python 路径为：\n",
      " ['', 'C:\\\\install\\\\Python\\\\Python27', 'C:\\\\install\\\\Python\\\\Python27\\\\Lib', 'C:\\\\install\\\\Python\\\\Python27\\\\Scripts', 'C:\\\\install\\\\Anaconda3\\\\python36.zip', 'C:\\\\install\\\\Anaconda3\\\\DLLs', 'C:\\\\install\\\\Anaconda3\\\\lib', 'C:\\\\install\\\\Anaconda3', 'C:\\\\install\\\\Anaconda3\\\\lib\\\\site-packages', 'C:\\\\install\\\\Anaconda3\\\\lib\\\\site-packages\\\\Babel-2.5.0-py3.6.egg', 'C:\\\\install\\\\Anaconda3\\\\lib\\\\site-packages\\\\win32', 'C:\\\\install\\\\Anaconda3\\\\lib\\\\site-packages\\\\win32\\\\lib', 'C:\\\\install\\\\Anaconda3\\\\lib\\\\site-packages\\\\Pythonwin', 'C:\\\\install\\\\Anaconda3\\\\lib\\\\site-packages\\\\IPython\\\\extensions', 'C:\\\\Users\\\\yang\\\\.ipython']\n"
     ]
    }
   ],
   "source": [
    "''''\n",
    "Python内置模块\n",
    "'''\n",
    "#第1步：引入模块\n",
    "import sys\n",
    "#第2步：使用模块中的函数，属性\n",
    "pathList=sys.path\n",
    "print('Python 路径为：\\n', pathList)"
   ]
  },
  {
   "cell_type": "markdown",
   "metadata": {},
   "source": [
    "## 第三方模块使用"
   ]
  },
  {
   "cell_type": "code",
   "execution_count": 1,
   "metadata": {
    "collapsed": true
   },
   "outputs": [],
   "source": [
    "'''\n",
    "使用conda命令安装包：conda install pandas\n",
    "使用第三方模块：pandas\n",
    "pandas是数据分析工具\n",
    "'''\n",
    "#引入模块\n",
    "import pandas as pd "
   ]
  },
  {
   "cell_type": "code",
   "execution_count": 2,
   "metadata": {
    "collapsed": true
   },
   "outputs": [],
   "source": [
    "#文件路径（在本地运行时替换成你自己的实际数据的文件路径）\n",
    "fileNameStr='C:\\houzi\\病历数据.xlsx'"
   ]
  },
  {
   "cell_type": "code",
   "execution_count": 5,
   "metadata": {},
   "outputs": [
    {
     "data": {
      "text/plain": [
       "'\\nExcel里面可以有多个工作表（Sheet）\\n这里参入的参数值“Sheet1”，就是某个工作表的名称，而不是Excel的文件名。\\n我们可以打开Excel文件，会看到工作表（Sheet）对应的名称，默认的工作表名称是“Sheet1”（注意大小写）\\n你也可以修改这个工作表的名称，然后传入对应的名称，就会根据名称读取这个工作表里的数据了\\n注意这个名称如果是英文，注意大小写，我一般喜欢从Excel中复制这个名称过来，以防错误\\n'"
      ]
     },
     "execution_count": 5,
     "metadata": {},
     "output_type": "execute_result"
    }
   ],
   "source": [
    "'''\n",
    "Excel里面可以有多个工作表（Sheet）\n",
    "这里参入的参数值“Sheet1”，就是某个工作表的名称，而不是Excel的文件名。\n",
    "我们可以打开Excel文件，会看到工作表（Sheet）对应的名称，默认的工作表名称是“Sheet1”（注意大小写）\n",
    "你也可以修改这个工作表的名称，然后传入对应的名称，就会根据名称读取这个工作表里的数据了\n",
    "注意这个名称如果是英文，注意大小写，我一般喜欢从Excel中复制这个名称过来，以防错误\n",
    "'''\n",
    "#读取excel文件里的数据\n",
    "patientDf = pd.read_excel(fileNameStr,sheet_name='Sheet1')\n",
    "\n",
    "'''\n",
    "如果运行后会报错，报错信息是：ImportError: Install xlrd>=0.90 for Excel support\n",
    "这时候要学会看报错信息，上面的报错信息意思是说：缺少读取Excel文件的包xlrd\n",
    "这时候在Navigator可视化界面中安装包（xlrd）\n",
    "安装好包后，再运行该代码\n",
    "'''"
   ]
  },
  {
   "cell_type": "code",
   "execution_count": 7,
   "metadata": {},
   "outputs": [
    {
     "data": {
      "text/html": [
       "<div>\n",
       "<style>\n",
       "    .dataframe thead tr:only-child th {\n",
       "        text-align: right;\n",
       "    }\n",
       "\n",
       "    .dataframe thead th {\n",
       "        text-align: left;\n",
       "    }\n",
       "\n",
       "    .dataframe tbody tr th {\n",
       "        vertical-align: top;\n",
       "    }\n",
       "</style>\n",
       "<table border=\"1\" class=\"dataframe\">\n",
       "  <thead>\n",
       "    <tr style=\"text-align: right;\">\n",
       "      <th></th>\n",
       "      <th>病人编号</th>\n",
       "      <th>姓名</th>\n",
       "      <th>年龄</th>\n",
       "      <th>糖尿病类型</th>\n",
       "      <th>病情</th>\n",
       "    </tr>\n",
       "  </thead>\n",
       "  <tbody>\n",
       "    <tr>\n",
       "      <th>0</th>\n",
       "      <td>1</td>\n",
       "      <td>猴子</td>\n",
       "      <td>29</td>\n",
       "      <td>1型糖尿病</td>\n",
       "      <td>较差</td>\n",
       "    </tr>\n",
       "    <tr>\n",
       "      <th>1</th>\n",
       "      <td>2</td>\n",
       "      <td>马云</td>\n",
       "      <td>34</td>\n",
       "      <td>2型糖尿病</td>\n",
       "      <td>好转</td>\n",
       "    </tr>\n",
       "    <tr>\n",
       "      <th>2</th>\n",
       "      <td>3</td>\n",
       "      <td>王健林</td>\n",
       "      <td>28</td>\n",
       "      <td>1型糖尿病</td>\n",
       "      <td>显著好转</td>\n",
       "    </tr>\n",
       "    <tr>\n",
       "      <th>3</th>\n",
       "      <td>4</td>\n",
       "      <td>马化腾</td>\n",
       "      <td>52</td>\n",
       "      <td>2型糖尿病</td>\n",
       "      <td>较差</td>\n",
       "    </tr>\n",
       "  </tbody>\n",
       "</table>\n",
       "</div>"
      ],
      "text/plain": [
       "   病人编号   姓名  年龄  糖尿病类型    病情\n",
       "0     1   猴子  29  1型糖尿病    较差\n",
       "1     2   马云  34  2型糖尿病    好转\n",
       "2     3  王健林  28  1型糖尿病  显著好转\n",
       "3     4  马化腾  52  2型糖尿病    较差"
      ]
     },
     "execution_count": 7,
     "metadata": {},
     "output_type": "execute_result"
    }
   ],
   "source": [
    "#显示变量里的数据\n",
    "patientDf"
   ]
  },
  {
   "cell_type": "code",
   "execution_count": null,
   "metadata": {
    "collapsed": true
   },
   "outputs": [],
   "source": []
  }
 ],
 "metadata": {
  "kernelspec": {
   "display_name": "Python [conda root]",
   "language": "python",
   "name": "conda-root-py"
  },
  "language_info": {
   "codemirror_mode": {
    "name": "ipython",
    "version": 3
   },
   "file_extension": ".py",
   "mimetype": "text/x-python",
   "name": "python",
   "nbconvert_exporter": "python",
   "pygments_lexer": "ipython3",
   "version": "3.6.3"
  }
 },
 "nbformat": 4,
 "nbformat_minor": 2
}
