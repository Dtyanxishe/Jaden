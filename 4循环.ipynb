{
 "cells": [
  {
   "cell_type": "markdown",
   "metadata": {},
   "source": [
    "## 如何使用循环批量处理数据？"
   ]
  },
  {
   "cell_type": "markdown",
   "metadata": {},
   "source": [
    "## 案例1：每天吃饭"
   ]
  },
  {
   "cell_type": "code",
   "execution_count": 2,
   "metadata": {},
   "outputs": [
    {
     "name": "stdout",
     "output_type": "stream",
     "text": [
      "第1次吃饭\n",
      "第2次吃饭\n",
      "第3次吃饭\n"
     ]
    }
   ],
   "source": [
    "#重复性工作\n",
    "print('吃第1次饭')\n",
    "print('吃第2次饭')\n",
    "print('吃第3次饭')"
   ]
  },
  {
   "cell_type": "code",
   "execution_count": 4,
   "metadata": {},
   "outputs": [
    {
     "name": "stdout",
     "output_type": "stream",
     "text": [
      "吃第1次饭\n",
      "吃第2次饭\n",
      "吃第3次饭\n"
     ]
    }
   ],
   "source": [
    "#容器：1天中吃第几次饭\n",
    "eatList=['吃第1次饭','吃第2次饭','吃第3次饭']\n",
    "#循环\n",
    "for i in eatList:\n",
    "    print(i)"
   ]
  },
  {
   "cell_type": "markdown",
   "metadata": {
    "collapsed": true
   },
   "source": [
    "## 案例2：股票数据"
   ]
  },
  {
   "cell_type": "code",
   "execution_count": 4,
   "metadata": {},
   "outputs": [
    {
     "name": "stdout",
     "output_type": "stream",
     "text": [
      "{'谷歌': 'GOOG', '亚马逊': 'AMZN', 'Facebook': 'FB', '苹果': 'AAPL', '阿里巴巴': 'BABA', '腾讯': '0700'}\n"
     ]
    }
   ],
   "source": [
    "'''\n",
    "定义字典：6家公司的股票\n",
    "key是公司名称，value是股票代码\n",
    "'''\n",
    "gafataDict={'谷歌':'Goog','亚马逊':'aMZN','Facebook':'FB',\n",
    "            '苹果':'aapl','阿里巴巴':'BABA','腾讯':'0700'}\n",
    "\n",
    "#将股票代码全部大写\n",
    "for key,value in gafataDict.items(): \n",
    "    #对股票代码转换成大写\n",
    "    newValue=value.upper()\n",
    "    #将转换后新的股票代码赋值给对应的key\n",
    "    gafataDict[key]=newValue\n",
    "\n",
    "print(gafataDict)"
   ]
  },
  {
   "cell_type": "markdown",
   "metadata": {},
   "source": [
    "## continue用于跳出当前循环"
   ]
  },
  {
   "cell_type": "code",
   "execution_count": 11,
   "metadata": {},
   "outputs": [
    {
     "name": "stdout",
     "output_type": "stream",
     "text": [
      "当前公司： 腾讯 ,当前股票代码： HK:00700\n",
      "当前公司： 阿里巴巴 ,当前股票代码： BABA\n",
      "当前公司： 谷歌 ,当前股票代码： ：GOOGLE\n",
      "当前公司： Facebook ,当前股票代码： FB\n",
      "当前公司： 亚马逊 ,当前股票代码： AMZN\n"
     ]
    }
   ],
   "source": [
    "for key,value in gafataDict.items():\n",
    "    if(key=='苹果'):\n",
    "        continue\n",
    "    print('当前公司：',key,',当前股票代码：',value)"
   ]
  },
  {
   "cell_type": "markdown",
   "metadata": {},
   "source": [
    "## break用于退出整个循环"
   ]
  },
  {
   "cell_type": "code",
   "execution_count": 18,
   "metadata": {},
   "outputs": [
    {
     "name": "stdout",
     "output_type": "stream",
     "text": [
      "当前公司： 腾讯 ,当前股票代码： HK:00700\n",
      "当前公司： 阿里巴巴 ,当前股票代码： BABA\n",
      "查找 苹果 公司的股票代码是 APPLE\n"
     ]
    }
   ],
   "source": [
    "#查找苹果公司的股票代码\n",
    "for key,value in gafataDict.items():\n",
    "    if(key=='苹果'):\n",
    "        print('查找',key,'公司的股票代码是',value)\n",
    "        break\n",
    "    print('当前公司：',key,',当前股票代码：',value)"
   ]
  }
 ],
 "metadata": {
  "kernelspec": {
   "display_name": "Python [conda root]",
   "language": "python",
   "name": "conda-root-py"
  },
  "language_info": {
   "codemirror_mode": {
    "name": "ipython",
    "version": 3
   },
   "file_extension": ".py",
   "mimetype": "text/x-python",
   "name": "python",
   "nbconvert_exporter": "python",
   "pygments_lexer": "ipython3",
   "version": "3.6.3"
  }
 },
 "nbformat": 4,
 "nbformat_minor": 2
}
